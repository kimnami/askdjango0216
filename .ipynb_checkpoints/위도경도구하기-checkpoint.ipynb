{
 "cells": [
  {
   "cell_type": "code",
   "execution_count": 4,
   "metadata": {
    "collapsed": true
   },
   "outputs": [],
   "source": [
    "import requests\n",
    "import json"
   ]
  },
  {
   "cell_type": "code",
   "execution_count": 31,
   "metadata": {
    "collapsed": false,
    "scrolled": true
   },
   "outputs": [
    {
     "name": "stdout",
     "output_type": "stream",
     "text": [
      "{'results': [{'formatted_address': '대한민국 서울특별시 서대문구 신촌동 연세로 50', 'types': [], 'geometry': {'location': {'lat': 37.565784, 'lng': 126.93857200000002}, 'viewport': {'west': 126.93722301970843, 'east': 126.9399209802915, 'south': 37.5644350197085, 'north': 37.5671329802915}, 'location_type': 'APPROXIMATE'}, 'place_id': 'ChIJDyg-oY6YfDURjmNa7ENSt7c', 'address_components': [{'short_name': '50', 'long_name': '50', 'types': ['political', 'premise']}, {'short_name': '연세로', 'long_name': '연세로', 'types': ['political', 'sublocality', 'sublocality_level_4']}, {'short_name': '신촌동', 'long_name': '신촌동', 'types': ['political', 'sublocality', 'sublocality_level_2']}, {'short_name': '서대문구', 'long_name': '서대문구', 'types': ['political', 'sublocality', 'sublocality_level_1']}, {'short_name': '서울특별시', 'long_name': '서울특별시', 'types': ['administrative_area_level_1', 'political']}, {'short_name': 'KR', 'long_name': '대한민국', 'types': ['country', 'political']}, {'short_name': '120-749', 'long_name': '120-749', 'types': ['postal_code']}]}], 'status': 'OK'}\n",
      "37.565784 \n",
      " 126.93857200000002\n"
     ]
    }
   ],
   "source": [
    "headers = { \n",
    "    'Referer':'http://mygeoposition.com/',\n",
    "    'Accept': 'text/plain, */*; q=0.01',\n",
    "    'Accept-Encoding':'gzip, deflate, sdch',\n",
    "    'Connection':'Keep-Alive',\n",
    "    'Cookie':'__utmd=1; __utma=165382691.2120598167.1486629393.1486646042.1486646042.4; __utmb=165382691.6.6.1486703287360; __utmc=165382691; __utmz=165382691.1486629393.1.1.utmcsr=(direct)|utmccn=(direct)|utmcmd=(none)',\n",
    "#     'Cookie':'__utmt=1; __utma=165382691.1443691913.1486651303.1486651303.1486651303.1; __utmb=165382691.18.8.1486651414960; __utmc=165382691; __utmz=165382691.1486651303.1.1.utmcsr=(direct)|utmccn=(direct)|utmcmd=(none)',\n",
    "    'Host':'mygeoposition.com',\n",
    "    'User-Agent':'Mozilla/5.0 (Macintosh; Intel Mac OS X 10_12_2) AppleWebKit/537.36 (KHTML, like Gecko) Chrome/55.0.2883.95 Safari/537.36',\n",
    "#     'User-Agent':'Mozilla/5.0 (Windows NT 10.0; WOW64) AppleWebKit/537.36 (KHTML, like Gecko) Chrome/56.0.2924.87 Safari/537.36',\n",
    "    'X-Requested-With':'XMLHttpRequest'\n",
    "}\n",
    "query = '연세대학교'\n",
    "url = 'http://mygeoposition.com/query_cache.php?token=ed4abc824d9f55efb0d10d6584ad6309&type=geocoding&query='+query+'&sessionId=1486704317929-eaa7-fa4b-74da-88c5-cb36'\n",
    "req = requests.get(url, headers=headers)\n",
    "\n",
    "json_type = json.loads(req.text)\n",
    "print(json_type)\n",
    "for dict in json_type['results']:\n",
    "    geo = dict['geometry']\n",
    "    location = geo['location']\n",
    "    \n",
    "    lat = location['lat']\n",
    "    lng = location['lng']\n",
    "    \n",
    "    print(lat, '\\n', lng)"
   ]
  },
  {
   "cell_type": "code",
   "execution_count": 36,
   "metadata": {
    "collapsed": false
   },
   "outputs": [],
   "source": [
    "def geo_crawler(query):\n",
    "    \n",
    "    headers = {\n",
    "        'Referer':'http://mygeoposition.com/',\n",
    "        'Accept':'text/plain, */*; q=0.01',\n",
    "        'Accept-Encoding':'gzip, deflate',\n",
    "        'Connection':'keep-alive',\n",
    "        'Cookie':'__utmt=1; __utma=165382691.2120598167.1486629393.1486646042.1486646042.4; __utmb=165382691.31.7.1486704432707; __utmc=165382691; __utmz=165382691.1486629393.1.1.utmcsr=(direct)|utmccn=(direct)|utmcmd=(none)',\n",
    "        'Host':'mygeoposition.com',\n",
    "        'User-Agent':'Mozilla/5.0 (Macintosh; Intel Mac OS X 10_12_2) AppleWebKit/537.36 (KHTML, like Gecko) Chrome/55.0.2883.95 Safari/537.36',\n",
    "        'X-Requested-With':'XMLHttpRequest'\n",
    "    }\n",
    "    \n",
    "    url='http://mygeoposition.com/query_cache.php?token=ed4abc824d9f55efb0d10d6584ad6309&type=geocoding&query='+query+'&sessionId=1486704317929-eaa7-fa4b-74da-88c5-cb36'\n",
    "    \n",
    "    req = requests.get(url, headers=headers)\n",
    "    \n",
    "    json_type = json.loads(req.text)\n",
    "    \n",
    "    print(json_type)\n",
    "    \n",
    "    for dic in json_type['results']:\n",
    "        geo = dic['geometry']\n",
    "        location = geo['location']\n",
    "\n",
    "        lat = location['lat']\n",
    "        lng = location['lng']\n",
    "\n",
    "        print(lat, '\\n', lng)"
   ]
  },
  {
   "cell_type": "code",
   "execution_count": 37,
   "metadata": {
    "collapsed": false
   },
   "outputs": [
    {
     "name": "stdout",
     "output_type": "stream",
     "text": [
      "{'results': [{'formatted_address': '대한민국 서울특별시 서대문구 신촌동 연세로 50', 'types': [], 'geometry': {'location': {'lat': 37.565784, 'lng': 126.93857200000002}, 'viewport': {'west': 126.93722301970843, 'east': 126.9399209802915, 'south': 37.5644350197085, 'north': 37.5671329802915}, 'location_type': 'APPROXIMATE'}, 'place_id': 'ChIJDyg-oY6YfDURjmNa7ENSt7c', 'address_components': [{'short_name': '50', 'long_name': '50', 'types': ['political', 'premise']}, {'short_name': '연세로', 'long_name': '연세로', 'types': ['political', 'sublocality', 'sublocality_level_4']}, {'short_name': '신촌동', 'long_name': '신촌동', 'types': ['political', 'sublocality', 'sublocality_level_2']}, {'short_name': '서대문구', 'long_name': '서대문구', 'types': ['political', 'sublocality', 'sublocality_level_1']}, {'short_name': '서울특별시', 'long_name': '서울특별시', 'types': ['administrative_area_level_1', 'political']}, {'short_name': 'KR', 'long_name': '대한민국', 'types': ['country', 'political']}, {'short_name': '120-749', 'long_name': '120-749', 'types': ['postal_code']}]}], 'status': 'OK'}\n",
      "37.565784 \n",
      " 126.93857200000002\n"
     ]
    }
   ],
   "source": [
    "geo_crawler('연세대학교')"
   ]
  },
  {
   "cell_type": "code",
   "execution_count": 38,
   "metadata": {
    "collapsed": true
   },
   "outputs": [],
   "source": [
    "def mygeo_crawler(query):\n",
    "    \n",
    "    headers = { \n",
    "    'Referer':'http://mygeoposition.com/',\n",
    "    'Accept': 'text/plain, */*; q=0.01',\n",
    "    'Accept-Encoding':'gzip, deflate, sdch',\n",
    "    'Connection':'Keep-Alive',\n",
    "    'Cookie':'__utmt=1; __utma=165382691.1443691913.1486651303.1486651303.1486651303.1; __utmb=165382691.18.8.1486651414960; __utmc=165382691; __utmz=165382691.1486651303.1.1.utmcsr=(direct)|utmccn=(direct)|utmcmd=(none)',\n",
    "    'Host':'mygeoposition.com',\n",
    "    'User-Agent':'Mozilla/5.0 (Windows NT 10.0; WOW64) AppleWebKit/537.36 (KHTML, like Gecko) Chrome/56.0.2924.87 Safari/537.36',\n",
    "    'X-Requested-With':'XMLHttpRequest'\n",
    "}\n",
    "    url = 'http://mygeoposition.com/query_cache.php?token=ed4abc824d9f55efb0d10d6584ad6309&type=geocoding&query='+query+'&sessionId=1486704317929-eaa7-fa4b-74da-88c5-cb36'\n",
    "\n",
    "#     url = 'http://mygeoposition.com/query_cache.php?token=90eb4b40276cdf71782c290e3801375c&type=geocoding&query='+query+'&sessionId=1486651304033-ce2b-8ddc-f1df-3e44-2808'\n",
    "    req = requests.get(url, headers=headers)\n",
    "\n",
    "    json_type = json.loads(req.text)\n",
    "\n",
    "    for dict in json_type['results']:\n",
    "        geo = dict['geometry']\n",
    "        location = geo['location']\n",
    "\n",
    "        lat = location['lat']\n",
    "        lng = location['lng']\n",
    "\n",
    "        print(lat, '\\n', lng)"
   ]
  },
  {
   "cell_type": "code",
   "execution_count": 40,
   "metadata": {
    "collapsed": false
   },
   "outputs": [],
   "source": [
    "# mygeo_crawler('연세대학교')"
   ]
  },
  {
   "cell_type": "code",
   "execution_count": null,
   "metadata": {
    "collapsed": true
   },
   "outputs": [],
   "source": []
  }
 ],
 "metadata": {
  "kernelspec": {
   "display_name": "Python 3",
   "language": "python",
   "name": "python3"
  },
  "language_info": {
   "codemirror_mode": {
    "name": "ipython",
    "version": 3
   },
   "file_extension": ".py",
   "mimetype": "text/x-python",
   "name": "python",
   "nbconvert_exporter": "python",
   "pygments_lexer": "ipython3",
   "version": "3.5.2"
  }
 },
 "nbformat": 4,
 "nbformat_minor": 1
}
